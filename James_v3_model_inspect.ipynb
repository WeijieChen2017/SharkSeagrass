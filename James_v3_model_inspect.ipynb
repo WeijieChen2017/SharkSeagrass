{
 "cells": [
  {
   "cell_type": "code",
   "execution_count": 14,
   "metadata": {},
   "outputs": [],
   "source": [
    "import torch\n",
    "\n",
    "def inspect_model_size(model):\n",
    "    # for name, param in model.named_parameters():\n",
    "    #     print(f'Layer: {name} | Size: {param.size()} | Values : {param[:2]}')\n",
    "    total_params = sum(p.numel() for p in model.parameters())\n",
    "    print(f'Total number of parameters in the model: {total_params}')\n",
    "    # convert to M\n",
    "    total_params /= 1e6\n",
    "    print(f'Total number of parameters in the model: {total_params} M')\n",
    "    # if default dtype is float32\n",
    "    # total memory in MB\n",
    "    total_memory = total_params * 4\n",
    "    print(f'Total memory {total_memory} MB')"
   ]
  },
  {
   "cell_type": "code",
   "execution_count": 17,
   "metadata": {},
   "outputs": [
    {
     "name": "stdout",
     "output_type": "stream",
     "text": [
      "Total number of parameters in the model: 18945844\n",
      "Total number of parameters in the model: 18.945844 M\n",
      "Total memory 75.783376 MB\n"
     ]
    }
   ],
   "source": [
    "from monai.networks.nets import UNet\n",
    "\n",
    "model = UNet(\n",
    "    spatial_dims=2,\n",
    "    in_channels=3,\n",
    "    out_channels=3,\n",
    "    channels=(64, 128, 256, 512),\n",
    "    strides=(2, 2, 2),\n",
    "    num_res_units=6,\n",
    ")\n",
    "\n",
    "inspect_model_size(model)"
   ]
  },
  {
   "cell_type": "code",
   "execution_count": 13,
   "metadata": {},
   "outputs": [],
   "source": []
  },
  {
   "cell_type": "code",
   "execution_count": 10,
   "metadata": {},
   "outputs": [],
   "source": [
    "# now we try SegResNetDS\n",
    "\n",
    "# network:\n",
    "#   {_target_: SegResNetDS,\n",
    "#   init_filters: 32,\n",
    "#   blocks_down: [1, 2, 2, 4, 4, 4],\n",
    "#   norm: INSTANCE, # INSTANCE , BATCH\n",
    "#   in_channels: '@input_channels',\n",
    "#   out_channels: '@output_classes',\n",
    "#   dsdepth: 4}"
   ]
  },
  {
   "cell_type": "code",
   "execution_count": 16,
   "metadata": {},
   "outputs": [
    {
     "name": "stdout",
     "output_type": "stream",
     "text": [
      "Total number of parameters in the model: 118738700\n",
      "Total number of parameters in the model: 118.7387 M\n",
      "Total memory 474.9548 MB\n"
     ]
    }
   ],
   "source": [
    "from monai.networks.nets import SegResNetDS\n",
    "\n",
    "input_channels = 3  # Assuming input channels are 3\n",
    "output_classes = 3  # Assuming output classes are 3\n",
    "\n",
    "segresnetds_model = SegResNetDS(\n",
    "    spatial_dims=2,\n",
    "    init_filters=32,\n",
    "    blocks_down=[1, 2, 2, 4, 4, 4],\n",
    "    norm='INSTANCE',  # INSTANCE or BATCH\n",
    "    in_channels=input_channels,\n",
    "    out_channels=output_classes,\n",
    "    dsdepth=4\n",
    ")\n",
    "\n",
    "inspect_model_size(segresnetds_model)"
   ]
  },
  {
   "cell_type": "code",
   "execution_count": 21,
   "metadata": {},
   "outputs": [
    {
     "name": "stdout",
     "output_type": "stream",
     "text": [
      "Total number of parameters in the model: 47284019\n",
      "Total number of parameters in the model: 47.284019 M\n",
      "Total memory 189.136076 MB\n"
     ]
    }
   ],
   "source": [
    "from monai.networks.nets import SEResNet101\n",
    "\n",
    "seresnet101_model = SEResNet101(\n",
    "    spatial_dims=2,\n",
    "    in_channels=3,\n",
    "    num_classes=3\n",
    ")\n",
    "\n",
    "inspect_model_size(seresnet101_model)"
   ]
  },
  {
   "cell_type": "code",
   "execution_count": 23,
   "metadata": {},
   "outputs": [
    {
     "name": "stderr",
     "output_type": "stream",
     "text": [
      "Downloading: \"http://data.lip6.fr/cadene/pretrainedmodels/se_resnet101-7e38fcc6.pth\" to /Users/WXC321/.cache/torch/hub/checkpoints/se_resnet101-7e38fcc6.pth\n",
      "100%|██████████| 189M/189M [09:15<00:00, 356kB/s] "
     ]
    },
    {
     "name": "stdout",
     "output_type": "stream",
     "text": [
      "Total number of parameters in the model: 47284019\n",
      "Total number of parameters in the model: 47.284019 M\n",
      "Total memory 189.136076 MB\n"
     ]
    },
    {
     "name": "stderr",
     "output_type": "stream",
     "text": [
      "\n"
     ]
    }
   ],
   "source": [
    "from monai.networks.nets import SEResNet101\n",
    "\n",
    "import ssl\n",
    "import torch\n",
    "\n",
    "# Create an unverified SSL context\n",
    "ssl._create_default_https_context = ssl._create_unverified_context\n",
    "\n",
    "def inspect_model_size(model):\n",
    "    # for name, param in model.named_parameters():\n",
    "    #     print(f'Layer: {name} | Size: {param.size()} | Values : {param[:2]}')\n",
    "    total_params = sum(p.numel() for p in model.parameters())\n",
    "    print(f'Total number of parameters in the model: {total_params}')\n",
    "    # convert to M\n",
    "    total_params /= 1e6\n",
    "    print(f'Total number of parameters in the model: {total_params} M')\n",
    "    # if default dtype is float32\n",
    "    # total memory in MB\n",
    "    total_memory = total_params * 4\n",
    "    print(f'Total memory {total_memory} MB')\n",
    "\n",
    "seresnet101_model = SEResNet101(\n",
    "    spatial_dims=2,\n",
    "    in_channels=3,\n",
    "    num_classes=3,\n",
    "    pretrained=True,\n",
    ")\n",
    "\n",
    "inspect_model_size(seresnet101_model)"
   ]
  },
  {
   "cell_type": "code",
   "execution_count": 24,
   "metadata": {},
   "outputs": [
    {
     "name": "stdout",
     "output_type": "stream",
     "text": [
      "Model saved to ../seresnet101_model_pretrained.pth\n"
     ]
    }
   ],
   "source": [
    "# save the model\n",
    "\n",
    "save_name = '../seresnet101_model_pretrained.pth'\n",
    "torch.save(seresnet101_model.state_dict(), save_name)\n",
    "print(f'Model saved to {save_name}')"
   ]
  },
  {
   "cell_type": "code",
   "execution_count": null,
   "metadata": {},
   "outputs": [],
   "source": []
  }
 ],
 "metadata": {
  "kernelspec": {
   "display_name": ".venv",
   "language": "python",
   "name": "python3"
  },
  "language_info": {
   "codemirror_mode": {
    "name": "ipython",
    "version": 3
   },
   "file_extension": ".py",
   "mimetype": "text/x-python",
   "name": "python",
   "nbconvert_exporter": "python",
   "pygments_lexer": "ipython3",
   "version": "3.9.6"
  }
 },
 "nbformat": 4,
 "nbformat_minor": 2
}
