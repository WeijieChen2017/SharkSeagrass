{
 "cells": [
  {
   "cell_type": "code",
   "execution_count": 2,
   "metadata": {},
   "outputs": [],
   "source": [
    "x_int = 32768       # 16 bits\n",
    "y_int = 54613       # 16 bits\n",
    "z_int = 2505397     # 32 bits"
   ]
  },
  {
   "cell_type": "code",
   "execution_count": 3,
   "metadata": {},
   "outputs": [
    {
     "name": "stdout",
     "output_type": "stream",
     "text": [
      "x in binary:  0b1000000000000000\n",
      "y in binary:  0b1101010101010101\n",
      "z in binary:  0b1001100011101010110101\n"
     ]
    }
   ],
   "source": [
    "# convert them into bits\n",
    "# 16 bits for x and y\n",
    "# 32 bits for z\n",
    "\n",
    "x_bin = bin(x_int)\n",
    "y_bin = bin(y_int)\n",
    "z_bin = bin(z_int)\n",
    "print(\"x in binary: \", x_bin)\n",
    "print(\"y in binary: \", y_bin)\n",
    "print(\"z in binary: \", z_bin)"
   ]
  },
  {
   "cell_type": "code",
   "execution_count": 4,
   "metadata": {},
   "outputs": [
    {
     "name": "stdout",
     "output_type": "stream",
     "text": [
      "encoded:  100000000000000011010101010101011001100011101010110101\n"
     ]
    }
   ],
   "source": [
    "# concatenate x, y, and z into a single 64-bit binary number\n",
    "\n",
    "encoded = x_bin[2:] + y_bin[2:] + z_bin[2:]\n",
    "print(\"encoded: \", encoded)"
   ]
  },
  {
   "cell_type": "code",
   "execution_count": 8,
   "metadata": {},
   "outputs": [
    {
     "name": "stdout",
     "output_type": "stream",
     "text": [
      "decoded:  9007428320770741\n",
      "dtype of decoded:  <class 'int'>\n"
     ]
    }
   ],
   "source": [
    "# convert the 64-bit binary number back into the float64 number\n",
    "\n",
    "decoded = int(encoded, 2)\n",
    "print(\"decoded: \", decoded)\n",
    "# show the dtype of decoded\n",
    "print(\"dtype of decoded: \", type(decoded))"
   ]
  },
  {
   "cell_type": "code",
   "execution_count": 6,
   "metadata": {},
   "outputs": [
    {
     "name": "stdout",
     "output_type": "stream",
     "text": [
      "size of decoded in bytes:  32\n"
     ]
    }
   ],
   "source": [
    "# output the size of decoded in bytes\n",
    "\n",
    "import sys\n",
    "print(\"size of decoded in bytes: \", sys.getsizeof(decoded))"
   ]
  },
  {
   "cell_type": "code",
   "execution_count": 13,
   "metadata": {},
   "outputs": [],
   "source": [
    "def physical_space_to_integer_coordinates(x_mm, y_mm, z_mm):\n",
    "    \"\"\"\n",
    "    Convert physical coordinates (x, y, z) in mm to integer representations \n",
    "    based on specified resolutions for 16-bit (x, y) and 32-bit (z) encoding.\n",
    "    \n",
    "    Parameters:\n",
    "        x_mm (float): X coordinate in mm.\n",
    "        y_mm (float): Y coordinate in mm.\n",
    "        z_mm (float): Z coordinate in mm.\n",
    "    \n",
    "    Returns:\n",
    "        tuple: (x_int, y_int, z_int) integer representations for encoding.\n",
    "    \"\"\"\n",
    "    # Resolution values derived from bit allocations and physical space\n",
    "    resolution_x = 600 / 65536  # 0.009155 mm per unit for x (16-bit)\n",
    "    resolution_y = 600 / 65536  # 0.009155 mm per unit for y (16-bit)\n",
    "    resolution_z = 1200 / 4294967296  # 0.0002794 mm per unit for z (32-bit)\n",
    "\n",
    "    # Convert physical coordinates to integer representations\n",
    "    x_int = int(x_mm / resolution_x)\n",
    "    y_int = int(y_mm / resolution_y)\n",
    "    z_int = int(z_mm / resolution_z)\n",
    "    \n",
    "    x_bin = bin(x_int)\n",
    "    y_bin = bin(y_int)\n",
    "    z_bin = bin(z_int)\n",
    "\n",
    "    encoded = x_bin[2:] + y_bin[2:] + z_bin[2:]\n",
    "    decoded = int(encoded, 2)\n",
    "    return decoded"
   ]
  },
  {
   "cell_type": "code",
   "execution_count": 11,
   "metadata": {},
   "outputs": [
    {
     "data": {
      "text/plain": [
       "96384662287280330"
      ]
     },
     "execution_count": 11,
     "metadata": {},
     "output_type": "execute_result"
    }
   ],
   "source": []
  },
  {
   "cell_type": "code",
   "execution_count": 12,
   "metadata": {},
   "outputs": [],
   "source": [
    "def integer_coordinates_to_physical_space(decoded):\n",
    "\n",
    "    # take the first 16 bits for x\n",
    "    x_int = decoded >> 48\n",
    "    # take the next 16 bits for y\n",
    "    y_int = (decoded >> 32) & 0xFFFF\n",
    "    # take the last 32 bits for z\n",
    "    z_int = decoded & 0xFFFFFFFF\n",
    "\n",
    "    # Resolution values derived from bit allocations and physical space\n",
    "    resolution_x = 600 / 65536  # 0.009155 mm per unit for x (16-bit)\n",
    "    resolution_y = 600 / 65536  # 0.009155 mm per unit for y (16-bit)\n",
    "    resolution_z = 1200 / 4294967296  # 0.0002794 mm per unit for z (32-bit)\n",
    "\n",
    "    # Convert integer representations to physical coordinates\n",
    "    x_mm = x_int * resolution_x\n",
    "    y_mm = y_int * resolution_y\n",
    "    z_mm = z_int * resolution_z\n",
    "\n",
    "    return x_mm, y_mm, z_mm"
   ]
  },
  {
   "cell_type": "code",
   "execution_count": 18,
   "metadata": {},
   "outputs": [
    {
     "name": "stdout",
     "output_type": "stream",
     "text": [
      "size of three coordinates in bytes:  84\n",
      "encoded:  9223559686481335637\n",
      "size of encoded in bytes:  36\n",
      "x_mm_recon:  300.0\n",
      "y_mm_recon:  399.993896484375\n",
      "z_mm_recon:  699.9999999068677\n",
      "size of three coordinates in bytes:  72\n"
     ]
    }
   ],
   "source": [
    "x_mm, y_mm, z_mm = 300, 400, 700\n",
    "print(\"size of three coordinates in bytes: \", sys.getsizeof(x_mm) + sys.getsizeof(y_mm) + sys.getsizeof(z_mm))\n",
    "\n",
    "encoded = physical_space_to_integer_coordinates(x_mm, y_mm, z_mm)\n",
    "print(\"encoded: \", encoded)\n",
    "print(\"size of encoded in bytes: \", sys.getsizeof(encoded))\n",
    "\n",
    "x_mm_recon, y_mm_recon, z_mm_recon = integer_coordinates_to_physical_space(encoded)\n",
    "print(\"x_mm_recon: \", x_mm_recon)\n",
    "print(\"y_mm_recon: \", y_mm_recon)\n",
    "print(\"z_mm_recon: \", z_mm_recon)\n",
    "print(\"size of three coordinates in bytes: \", sys.getsizeof(x_mm_recon) + sys.getsizeof(y_mm_recon) + sys.getsizeof(z_mm_recon))"
   ]
  },
  {
   "cell_type": "code",
   "execution_count": 22,
   "metadata": {},
   "outputs": [],
   "source": [
    "x_space_mm = 600\n",
    "y_space_mm = 600\n",
    "z_space_mm = 400\n",
    "# we can distribute different bits to x, y, and z for different resolution requirements\n",
    "\n",
    "x_bits = 24\n",
    "y_bits = 24\n",
    "z_bits = 16\n",
    "\n",
    "def physical_space_to_integer_coordinates_v2(x_mm, y_mm, z_mm):\n",
    "\n",
    "    # Resolution values derived from bit allocations and physical space\n",
    "    resolution_x = x_space_mm / (2 ** x_bits)\n",
    "    resolution_y = y_space_mm / (2 ** y_bits)\n",
    "    resolution_z = z_space_mm / (2 ** z_bits)\n",
    "\n",
    "    # Convert physical coordinates to integer representations\n",
    "    x_int = int(x_mm / resolution_x)\n",
    "    y_int = int(y_mm / resolution_y)\n",
    "    z_int = int(z_mm / resolution_z)\n",
    "    \n",
    "    x_bin = bin(x_int)\n",
    "    y_bin = bin(y_int)\n",
    "    z_bin = bin(z_int)\n",
    "\n",
    "    encoded = x_bin[2:] + y_bin[2:] + z_bin[2:]\n",
    "    encoded = int(encoded, 2)\n",
    "    return encoded"
   ]
  },
  {
   "cell_type": "code",
   "execution_count": 23,
   "metadata": {},
   "outputs": [],
   "source": [
    "def integer_coordinates_to_physical_space_v2(encoded, x_bits=24, y_bits=24, z_bits=16):\n",
    "\n",
    "    # take the first x_bits bits for x\n",
    "    x_int = encoded >> (y_bits + z_bits)\n",
    "    # take the next y_bit bits for y\n",
    "    y_int = (encoded >> z_bits) & (2**y_bits - 1)\n",
    "    # take the last z_bit bits for z\n",
    "    z_int = encoded & (2**z_bits - 1)\n",
    "\n",
    "    # Resolution values derived from bit allocations and physical space\n",
    "    resolution_x = x_space_mm / (2 ** x_bits)\n",
    "    resolution_y = y_space_mm / (2 ** y_bits)\n",
    "    resolution_z = z_space_mm / (2 ** z_bits)\n",
    "\n",
    "    # Convert integer representations to physical coordinates\n",
    "    x_mm = x_int * resolution_x\n",
    "    y_mm = y_int * resolution_y\n",
    "    z_mm = z_int * resolution_z\n",
    "\n",
    "    return x_mm, y_mm, z_mm"
   ]
  },
  {
   "cell_type": "code",
   "execution_count": 26,
   "metadata": {},
   "outputs": [
    {
     "name": "stdout",
     "output_type": "stream",
     "text": [
      "encoded_coor:  9223372769862516736\n",
      "recon_coors:  (300.0, 399.9999761581421, 200.0)\n"
     ]
    }
   ],
   "source": [
    "# example we have the location (300, 400, 200) in mm\n",
    "x_mm, y_mm, z_mm = 300, 400, 200\n",
    "\n",
    "assert x_mm < x_space_mm\n",
    "assert y_mm < y_space_mm\n",
    "assert z_mm < z_space_mm\n",
    "\n",
    "encoded_coor = physical_space_to_integer_coordinates_v2(x_mm, y_mm, z_mm)\n",
    "print(\"encoded_coor: \", encoded_coor)\n",
    "\n",
    "recon_coors = integer_coordinates_to_physical_space_v2(encoded_coor)\n",
    "print(\"recon_coors: \", recon_coors)\n"
   ]
  },
  {
   "cell_type": "code",
   "execution_count": null,
   "metadata": {},
   "outputs": [],
   "source": []
  }
 ],
 "metadata": {
  "kernelspec": {
   "display_name": ".venv",
   "language": "python",
   "name": "python3"
  },
  "language_info": {
   "codemirror_mode": {
    "name": "ipython",
    "version": 3
   },
   "file_extension": ".py",
   "mimetype": "text/x-python",
   "name": "python",
   "nbconvert_exporter": "python",
   "pygments_lexer": "ipython3",
   "version": "3.9.6"
  }
 },
 "nbformat": 4,
 "nbformat_minor": 2
}
